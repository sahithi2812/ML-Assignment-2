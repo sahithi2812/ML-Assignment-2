{
 "cells": [
  {
   "cell_type": "code",
   "execution_count": 9,
   "id": "e569c716",
   "metadata": {},
   "outputs": [
    {
     "name": "stdout",
     "output_type": "stream",
     "text": [
      "*\r\n",
      "**\r\n",
      "***\r\n",
      "****\r\n",
      "*****\r\n",
      "****\r\n",
      "***\r\n",
      "**\r\n",
      "*\r\n",
      "\r\n"
     ]
    }
   ],
   "source": [
    "number_of_rows = 5\n",
    "for i in range(0, number_of_rows):\n",
    "    for j in range(0,i+1):\n",
    "        print(\"*\",end='')\n",
    "    print(\"\\r\")\n",
    "for i in range(number_of_rows,0,-1):\n",
    "    for j in range(0,i-1):\n",
    "        print(\"*\",end='')\n",
    "    print(\"\\r\")\n"
   ]
  },
  {
   "cell_type": "code",
   "execution_count": 10,
   "id": "0e395de7",
   "metadata": {},
   "outputs": [
    {
     "name": "stdout",
     "output_type": "stream",
     "text": [
      "items present in odd indexes\n",
      "20 40 60 80 100 "
     ]
    }
   ],
   "source": [
    "list = [10, 20, 30, 40, 50, 60, 70, 80, 90, 100]\n",
    "print(\"items present in odd indexes\")\n",
    "for i in list[1::2]:\n",
    "    print(i,end=' ')\n"
   ]
  },
  {
   "cell_type": "code",
   "execution_count": 28,
   "id": "ca11ff42",
   "metadata": {},
   "outputs": [
    {
     "name": "stdout",
     "output_type": "stream",
     "text": [
      "[23, 'Python', 23.98]\n",
      "[<class 'int'>, <class 'str'>, <class 'float'>]\n"
     ]
    }
   ],
   "source": [
    "x=[23,'Python', 23.98]\n",
    "output= []\n",
    "for a in range(len(x)):\n",
    "    output.append(type(x[a]))\n",
    "print(x)\n",
    "print(output)"
   ]
  },
  {
   "cell_type": "code",
   "execution_count": 11,
   "id": "2fb8b0fc",
   "metadata": {},
   "outputs": [
    {
     "name": "stdout",
     "output_type": "stream",
     "text": [
      "[1, 2, 3, 4, 5]\n"
     ]
    }
   ],
   "source": [
    "Sample_List: [1,2,3,3,3,3,4,5]\n",
    "uniquelist = []\n",
    "def ulist(Sample_List):\n",
    "    for i in Sample_List:\n",
    "        if i not in uniquelist:\n",
    "            uniquelist.append(i)\n",
    "    return uniquelist\n",
    "print(ulist([1,2,3,3,3,3,4,5]))\n",
    "    "
   ]
  },
  {
   "cell_type": "code",
   "execution_count": 12,
   "id": "112bb7fc",
   "metadata": {},
   "outputs": [
    {
     "name": "stdout",
     "output_type": "stream",
     "text": [
      "Input String : The quick Brow Fox\n",
      "Number of upper case characters: 3\n",
      "Number of lower case characters: 12\n"
     ]
    }
   ],
   "source": [
    "def uplow(input):\n",
    "    list={\"u_case\":0, \"l_case\":0}\n",
    "    for i in input:\n",
    "        if i.isupper():\n",
    "            list[\"u_case\"]+=1\n",
    "        elif i.islower():\n",
    "            list[\"l_case\"]+=1\n",
    "        else:\n",
    "            pass\n",
    "    print(\"Input String :\",input)\n",
    "    print(\"Number of upper case characters:\", list[\"u_case\"])\n",
    "    print(\"Number of lower case characters:\", list[\"l_case\"])\n",
    "uplow(\"The quick Brow Fox\")\n",
    "        \n",
    "        "
   ]
  },
  {
   "cell_type": "code",
   "execution_count": null,
   "id": "c69db787",
   "metadata": {},
   "outputs": [],
   "source": []
  }
 ],
 "metadata": {
  "kernelspec": {
   "display_name": "Python 3 (ipykernel)",
   "language": "python",
   "name": "python3"
  },
  "language_info": {
   "codemirror_mode": {
    "name": "ipython",
    "version": 3
   },
   "file_extension": ".py",
   "mimetype": "text/x-python",
   "name": "python",
   "nbconvert_exporter": "python",
   "pygments_lexer": "ipython3",
   "version": "3.9.13"
  }
 },
 "nbformat": 4,
 "nbformat_minor": 5
}
